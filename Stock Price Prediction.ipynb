{
 "cells": [
  {
   "cell_type": "code",
   "execution_count": 1,
   "id": "40544a0e",
   "metadata": {},
   "outputs": [],
   "source": [
    "#importing required packages\n",
    "import pandas as pd \n",
    "import numpy as np\n",
    "import matplotlib.pyplot as plt \n",
    "from sklearn.linear_model import LinearRegression\n",
    "from sklearn.model_selection import train_test_split\n",
    "from sklearn.metrics import accuracy_score, r2_score"
   ]
  },
  {
   "cell_type": "code",
   "execution_count": 2,
   "id": "956114b5",
   "metadata": {},
   "outputs": [],
   "source": [
    "#read the file\n",
    "data = pd.read_csv(\"NSE-Tata-Global-Beverages-Limited.csv\")\n",
    "X = data[[\"High\" , \"Low\", \"Open\",\"Last\"]]\n",
    "y = data[\"Close\"]"
   ]
  },
  {
   "cell_type": "code",
   "execution_count": 3,
   "id": "a167faa6",
   "metadata": {},
   "outputs": [
    {
     "data": {
      "text/html": [
       "<div>\n",
       "<style scoped>\n",
       "    .dataframe tbody tr th:only-of-type {\n",
       "        vertical-align: middle;\n",
       "    }\n",
       "\n",
       "    .dataframe tbody tr th {\n",
       "        vertical-align: top;\n",
       "    }\n",
       "\n",
       "    .dataframe thead th {\n",
       "        text-align: right;\n",
       "    }\n",
       "</style>\n",
       "<table border=\"1\" class=\"dataframe\">\n",
       "  <thead>\n",
       "    <tr style=\"text-align: right;\">\n",
       "      <th></th>\n",
       "      <th>Date</th>\n",
       "      <th>Open</th>\n",
       "      <th>High</th>\n",
       "      <th>Low</th>\n",
       "      <th>Last</th>\n",
       "      <th>Close</th>\n",
       "      <th>Total Trade Quantity</th>\n",
       "      <th>Turnover (Lacs)</th>\n",
       "    </tr>\n",
       "  </thead>\n",
       "  <tbody>\n",
       "    <tr>\n",
       "      <th>0</th>\n",
       "      <td>2018-10-08</td>\n",
       "      <td>208.00</td>\n",
       "      <td>222.25</td>\n",
       "      <td>206.85</td>\n",
       "      <td>216.00</td>\n",
       "      <td>215.15</td>\n",
       "      <td>4642146.0</td>\n",
       "      <td>10062.83</td>\n",
       "    </tr>\n",
       "    <tr>\n",
       "      <th>1</th>\n",
       "      <td>2018-10-05</td>\n",
       "      <td>217.00</td>\n",
       "      <td>218.60</td>\n",
       "      <td>205.90</td>\n",
       "      <td>210.25</td>\n",
       "      <td>209.20</td>\n",
       "      <td>3519515.0</td>\n",
       "      <td>7407.06</td>\n",
       "    </tr>\n",
       "    <tr>\n",
       "      <th>2</th>\n",
       "      <td>2018-10-04</td>\n",
       "      <td>223.50</td>\n",
       "      <td>227.80</td>\n",
       "      <td>216.15</td>\n",
       "      <td>217.25</td>\n",
       "      <td>218.20</td>\n",
       "      <td>1728786.0</td>\n",
       "      <td>3815.79</td>\n",
       "    </tr>\n",
       "    <tr>\n",
       "      <th>3</th>\n",
       "      <td>2018-10-03</td>\n",
       "      <td>230.00</td>\n",
       "      <td>237.50</td>\n",
       "      <td>225.75</td>\n",
       "      <td>226.45</td>\n",
       "      <td>227.60</td>\n",
       "      <td>1708590.0</td>\n",
       "      <td>3960.27</td>\n",
       "    </tr>\n",
       "    <tr>\n",
       "      <th>4</th>\n",
       "      <td>2018-10-01</td>\n",
       "      <td>234.55</td>\n",
       "      <td>234.60</td>\n",
       "      <td>221.05</td>\n",
       "      <td>230.30</td>\n",
       "      <td>230.90</td>\n",
       "      <td>1534749.0</td>\n",
       "      <td>3486.05</td>\n",
       "    </tr>\n",
       "  </tbody>\n",
       "</table>\n",
       "</div>"
      ],
      "text/plain": [
       "         Date    Open    High     Low    Last   Close  Total Trade Quantity  \\\n",
       "0  2018-10-08  208.00  222.25  206.85  216.00  215.15             4642146.0   \n",
       "1  2018-10-05  217.00  218.60  205.90  210.25  209.20             3519515.0   \n",
       "2  2018-10-04  223.50  227.80  216.15  217.25  218.20             1728786.0   \n",
       "3  2018-10-03  230.00  237.50  225.75  226.45  227.60             1708590.0   \n",
       "4  2018-10-01  234.55  234.60  221.05  230.30  230.90             1534749.0   \n",
       "\n",
       "   Turnover (Lacs)  \n",
       "0         10062.83  \n",
       "1          7407.06  \n",
       "2          3815.79  \n",
       "3          3960.27  \n",
       "4          3486.05  "
      ]
     },
     "execution_count": 3,
     "metadata": {},
     "output_type": "execute_result"
    }
   ],
   "source": [
    "#print the head\n",
    "data.head()"
   ]
  },
  {
   "cell_type": "code",
   "execution_count": 4,
   "id": "b37660c4",
   "metadata": {},
   "outputs": [
    {
     "data": {
      "text/html": [
       "<div>\n",
       "<style scoped>\n",
       "    .dataframe tbody tr th:only-of-type {\n",
       "        vertical-align: middle;\n",
       "    }\n",
       "\n",
       "    .dataframe tbody tr th {\n",
       "        vertical-align: top;\n",
       "    }\n",
       "\n",
       "    .dataframe thead th {\n",
       "        text-align: right;\n",
       "    }\n",
       "</style>\n",
       "<table border=\"1\" class=\"dataframe\">\n",
       "  <thead>\n",
       "    <tr style=\"text-align: right;\">\n",
       "      <th></th>\n",
       "      <th>Date</th>\n",
       "      <th>Open</th>\n",
       "      <th>High</th>\n",
       "      <th>Low</th>\n",
       "      <th>Last</th>\n",
       "      <th>Close</th>\n",
       "      <th>Total Trade Quantity</th>\n",
       "      <th>Turnover (Lacs)</th>\n",
       "    </tr>\n",
       "  </thead>\n",
       "  <tbody>\n",
       "    <tr>\n",
       "      <th>1230</th>\n",
       "      <td>2013-10-14</td>\n",
       "      <td>160.85</td>\n",
       "      <td>161.45</td>\n",
       "      <td>157.70</td>\n",
       "      <td>159.3</td>\n",
       "      <td>159.45</td>\n",
       "      <td>1281419.0</td>\n",
       "      <td>2039.09</td>\n",
       "    </tr>\n",
       "    <tr>\n",
       "      <th>1231</th>\n",
       "      <td>2013-10-11</td>\n",
       "      <td>161.15</td>\n",
       "      <td>163.45</td>\n",
       "      <td>159.00</td>\n",
       "      <td>159.8</td>\n",
       "      <td>160.05</td>\n",
       "      <td>1880046.0</td>\n",
       "      <td>3030.76</td>\n",
       "    </tr>\n",
       "    <tr>\n",
       "      <th>1232</th>\n",
       "      <td>2013-10-10</td>\n",
       "      <td>156.00</td>\n",
       "      <td>160.80</td>\n",
       "      <td>155.85</td>\n",
       "      <td>160.3</td>\n",
       "      <td>160.15</td>\n",
       "      <td>3124853.0</td>\n",
       "      <td>4978.80</td>\n",
       "    </tr>\n",
       "    <tr>\n",
       "      <th>1233</th>\n",
       "      <td>2013-10-09</td>\n",
       "      <td>155.70</td>\n",
       "      <td>158.20</td>\n",
       "      <td>154.15</td>\n",
       "      <td>155.3</td>\n",
       "      <td>155.55</td>\n",
       "      <td>2049580.0</td>\n",
       "      <td>3204.49</td>\n",
       "    </tr>\n",
       "    <tr>\n",
       "      <th>1234</th>\n",
       "      <td>2013-10-08</td>\n",
       "      <td>157.00</td>\n",
       "      <td>157.80</td>\n",
       "      <td>155.20</td>\n",
       "      <td>155.8</td>\n",
       "      <td>155.80</td>\n",
       "      <td>1720413.0</td>\n",
       "      <td>2688.94</td>\n",
       "    </tr>\n",
       "  </tbody>\n",
       "</table>\n",
       "</div>"
      ],
      "text/plain": [
       "            Date    Open    High     Low   Last   Close  Total Trade Quantity  \\\n",
       "1230  2013-10-14  160.85  161.45  157.70  159.3  159.45             1281419.0   \n",
       "1231  2013-10-11  161.15  163.45  159.00  159.8  160.05             1880046.0   \n",
       "1232  2013-10-10  156.00  160.80  155.85  160.3  160.15             3124853.0   \n",
       "1233  2013-10-09  155.70  158.20  154.15  155.3  155.55             2049580.0   \n",
       "1234  2013-10-08  157.00  157.80  155.20  155.8  155.80             1720413.0   \n",
       "\n",
       "      Turnover (Lacs)  \n",
       "1230          2039.09  \n",
       "1231          3030.76  \n",
       "1232          4978.80  \n",
       "1233          3204.49  \n",
       "1234          2688.94  "
      ]
     },
     "execution_count": 4,
     "metadata": {},
     "output_type": "execute_result"
    }
   ],
   "source": [
    "#print the tail \n",
    "data.tail()"
   ]
  },
  {
   "cell_type": "code",
   "execution_count": 5,
   "id": "0859a8ba",
   "metadata": {},
   "outputs": [
    {
     "name": "stdout",
     "output_type": "stream",
     "text": [
      "0       215.15\n",
      "1       209.20\n",
      "2       218.20\n",
      "3       227.60\n",
      "4       230.90\n",
      "         ...  \n",
      "1230    159.45\n",
      "1231    160.05\n",
      "1232    160.15\n",
      "1233    155.55\n",
      "1234    155.80\n",
      "Name: Close, Length: 1235, dtype: float64\n"
     ]
    }
   ],
   "source": [
    "data_close=data.reset_index()['Close']\n",
    "print(data_close)"
   ]
  },
  {
   "cell_type": "code",
   "execution_count": 6,
   "id": "b8abb297",
   "metadata": {},
   "outputs": [
    {
     "data": {
      "text/plain": [
       "[<matplotlib.lines.Line2D at 0x2aa087ed160>]"
      ]
     },
     "execution_count": 6,
     "metadata": {},
     "output_type": "execute_result"
    },
    {
     "data": {
      "image/png": "[encoded data removed]",
      "text/plain": [
       "<Figure size 1152x576 with 1 Axes>"
      ]
     },
     "metadata": {
      "needs_background": "light"
     },
     "output_type": "display_data"
    }
   ],
   "source": [
    "#setting index as date\n",
    "data['Date'] = pd.to_datetime(data.Date,format='%Y-%m-%d')\n",
    "data.index = data['Date']\n",
    "\n",
    "#plot\n",
    "plt.figure(figsize=(16,8))\n",
    "plt.plot(data['Close'], label='Close Price history')"
   ]
  },
  {
   "cell_type": "markdown",
   "id": "d969070a",
   "metadata": {},
   "source": [
    "## normal mean method"
   ]
  },
  {
   "cell_type": "code",
   "execution_count": 7,
   "id": "057f30d1",
   "metadata": {},
   "outputs": [
    {
     "name": "stdout",
     "output_type": "stream",
     "text": [
      "\n",
      " Shape of the data:\n",
      "(1235, 8)\n",
      "\n",
      " Shape of training set:\n",
      "(987, 2)\n",
      "\n",
      " Shape of validation set:\n",
      "(248, 2)\n",
      "\n",
      " RMSE value on validation set:\n",
      "104.51415465984348\n"
     ]
    }
   ],
   "source": [
    "df = pd.read_csv(\"NSE-Tata-Global-Beverages-Limited.csv\")\n",
    "print('\\n Shape of the data:')\n",
    "print(df.shape)\n",
    "\n",
    "# setting the index as date\n",
    "df['Date'] = pd.to_datetime(df.Date,format='%Y-%m-%d')\n",
    "df.index = df['Date']\n",
    "\n",
    "#creating dataframe with date and the target variable\n",
    "data = df.sort_index(ascending=True, axis=0)\n",
    "new_data = pd.DataFrame(index=range(0,len(df)),columns=['Date', 'Close'])\n",
    "\n",
    "data = df.sort_index(ascending=True, axis=0)\n",
    "new_data = pd.DataFrame(index=range(0,len(df)),columns=['Date', 'Close'])\n",
    "\n",
    "for i in range(0,len(data)):\n",
    "     new_data['Date'][i] = data['Date'][i]\n",
    "     new_data['Close'][i] = data['Close'][i]\n",
    "\n",
    "# NOTE: While splitting the data into train and validation set, we cannot use random splitting since that will destroy the time component. So here we have set the last year’s data into validation and the 4 years’ data before that into train set.\n",
    "\n",
    "# splitting into train and validation\n",
    "train = new_data[:987]\n",
    "valid = new_data[987:]\n",
    "\n",
    "# shapes of training set\n",
    "print('\\n Shape of training set:')\n",
    "print(train.shape)\n",
    "\n",
    "# shapes of validation set\n",
    "print('\\n Shape of validation set:')\n",
    "print(valid.shape)\n",
    "\n",
    "# In the next step, we will create predictions for the validation set and check the RMSE using the actual values.\n",
    "# making predictions\n",
    "preds = []\n",
    "for i in range(0,valid.shape[0]):\n",
    "    a = train['Close'][len(train)-248+i:].sum() + sum(preds)\n",
    "    b = a/248\n",
    "    preds.append(b)\n",
    "\n",
    "# checking the results (RMSE value)\n",
    "rms=np.sqrt(np.mean(np.power((np.array(valid['Close'])-preds),2)))\n",
    "print('\\n RMSE value on validation set:')\n",
    "print(rms)"
   ]
  },
  {
   "cell_type": "code",
   "execution_count": 8,
   "id": "8a369f02",
   "metadata": {},
   "outputs": [
    {
     "name": "stderr",
     "output_type": "stream",
     "text": [
      "<ipython-input-8-0baf7a63cf7a>:1: SettingWithCopyWarning: \n",
      "A value is trying to be set on a copy of a slice from a DataFrame.\n",
      "Try using .loc[row_indexer,col_indexer] = value instead\n",
      "\n",
      "See the caveats in the documentation: https://pandas.pydata.org/pandas-docs/stable/user_guide/indexing.html#returning-a-view-versus-a-copy\n",
      "  valid['Predictions'] = 0\n",
      "<ipython-input-8-0baf7a63cf7a>:2: SettingWithCopyWarning: \n",
      "A value is trying to be set on a copy of a slice from a DataFrame.\n",
      "Try using .loc[row_indexer,col_indexer] = value instead\n",
      "\n",
      "See the caveats in the documentation: https://pandas.pydata.org/pandas-docs/stable/user_guide/indexing.html#returning-a-view-versus-a-copy\n",
      "  valid['Predictions'] = preds\n"
     ]
    },
    {
     "data": {
      "text/plain": [
       "[<matplotlib.lines.Line2D at 0x2aa08f845e0>,\n",
       " <matplotlib.lines.Line2D at 0x2aa08f846a0>]"
      ]
     },
     "execution_count": 8,
     "metadata": {},
     "output_type": "execute_result"
    },
    {
     "data": {
      "image/png": "[encoded data removed]",
      "text/plain": [
       "<Figure size 432x288 with 1 Axes>"
      ]
     },
     "metadata": {
      "needs_background": "light"
     },
     "output_type": "display_data"
    }
   ],
   "source": [
    "valid['Predictions'] = 0\n",
    "valid['Predictions'] = preds\n",
    "plt.plot(train['Close'])\n",
    "plt.plot(valid[['Close', 'Predictions']])"
   ]
  },
  {
   "cell_type": "markdown",
   "id": "f322064d",
   "metadata": {},
   "source": [
    "## Linear Regression"
   ]
  },
  {
   "cell_type": "code",
   "execution_count": 9,
   "id": "30182745",
   "metadata": {},
   "outputs": [
    {
     "name": "stdout",
     "output_type": "stream",
     "text": [
      "Coefficients:\n",
      " [ 0.06591904  0.06740857 -0.04997244  0.91606679]\n",
      "Intercept:\n",
      " 0.08472042772442023\n",
      "Variance:\n",
      " 0.9999444971551509\n"
     ]
    },
    {
     "data": {
      "text/plain": [
       "<matplotlib.collections.LineCollection at 0x2aa08fbb6a0>"
      ]
     },
     "execution_count": 9,
     "metadata": {},
     "output_type": "execute_result"
    },
    {
     "data": {
      "image/png": "[encoded data removed]",
      "text/plain": [
       "<Figure size 432x288 with 1 Axes>"
      ]
     },
     "metadata": {
      "needs_background": "light"
     },
     "output_type": "display_data"
    }
   ],
   "source": [
    "#implement linear regression\n",
    "x_train, x_test, y_train, y_test = train_test_split(X,y,test_size=0.4,random_state=1)\n",
    "linear_regression = LinearRegression()\n",
    "linear_regression.fit(x_train,y_train)\n",
    " \n",
    "print(\"Coefficients:\\n\",linear_regression.coef_)\n",
    "print(\"Intercept:\\n\",linear_regression.intercept_)\n",
    "\n",
    "print(\"Variance:\\n\",linear_regression.score(x_test,y_test))\n",
    "\n",
    "plt.scatter(linear_regression.predict(x_test),linear_regression.predict(x_test)-y_test, color=\"green\", s=10, label=\"Test data\")\n",
    " \n",
    "plt.scatter(linear_regression.predict(x_train),linear_regression.predict(x_train)-y_train, color=\"orange\", s=10, label=\"Train data\")\n",
    "\n",
    "plt.hlines(y=0, xmin=50,xmax=180,linewidth=2)"
   ]
  },
  {
   "cell_type": "markdown",
   "id": "0697618d",
   "metadata": {},
   "source": [
    "## LSTM model"
   ]
  },
  {
   "cell_type": "code",
   "execution_count": 11,
   "id": "e7654e0a",
   "metadata": {},
   "outputs": [
    {
     "name": "stdout",
     "output_type": "stream",
     "text": [
      "927/927 - 15s - loss: 0.0013 - 15s/epoch - 17ms/step\n"
     ]
    }
   ],
   "source": [
    "#importing required libraries\n",
    "from sklearn.preprocessing import MinMaxScaler\n",
    "from keras.models import Sequential\n",
    "from keras.layers import Dense, Dropout, LSTM\n",
    "\n",
    "#creating dataframe\n",
    "Data = data.sort_index(ascending=True, axis=0)\n",
    "new_data = pd.DataFrame(index=range(0,len(data)),columns=['Date', 'Close'])\n",
    "for i in range(0,len(data)):\n",
    "    new_data['Date'][i] = data['Date'][i]\n",
    "    new_data['Close'][i] = data['Close'][i]\n",
    "\n",
    "#setting index\n",
    "new_data.index = new_data.Date\n",
    "new_data.drop('Date', axis=1, inplace=True)\n",
    "\n",
    "#creating train and test sets\n",
    "dataset = new_data.values\n",
    "\n",
    "train = dataset[0:987,:]\n",
    "valid = dataset[987:,:]\n",
    "\n",
    "#converting dataset into x_train and y_train\n",
    "scaler = MinMaxScaler(feature_range=(0, 1))\n",
    "scaled_data = scaler.fit_transform(dataset)\n",
    "\n",
    "x_train, y_train = [], []\n",
    "for i in range(60,len(train)):\n",
    "    x_train.append(scaled_data[i-60:i,0])\n",
    "    y_train.append(scaled_data[i,0])\n",
    "x_train, y_train = np.array(x_train), np.array(y_train)\n",
    "\n",
    "x_train = np.reshape(x_train, (x_train.shape[0],x_train.shape[1],1))\n",
    "\n",
    "# create and fit the LSTM network\n",
    "model = Sequential()\n",
    "model.add(LSTM(units=50, return_sequences=True, input_shape=(x_train.shape[1],1)))\n",
    "model.add(LSTM(units=50))\n",
    "model.add(Dense(1))\n",
    "\n",
    "model.compile(loss='mean_squared_error', optimizer='adam')\n",
    "model.fit(x_train, y_train, epochs=1, batch_size=1, verbose=2)\n",
    "\n",
    "#predicting 246 values, using past 60 from the train data\n",
    "inputs = new_data[len(new_data) - len(valid) - 60:].values\n",
    "inputs = inputs.reshape(-1,1)\n",
    "inputs  = scaler.transform(inputs)\n",
    "\n",
    "X_test = []\n",
    "for i in range(60,inputs.shape[0]):\n",
    "    X_test.append(inputs[i-60:i,0])\n",
    "X_test = np.array(X_test)\n",
    "\n",
    "X_test = np.reshape(X_test, (X_test.shape[0],X_test.shape[1],1))\n",
    "closing_price = model.predict(X_test)\n",
    "closing_price = scaler.inverse_transform(closing_price)"
   ]
  },
  {
   "cell_type": "code",
   "execution_count": 12,
   "id": "e6d34ae1",
   "metadata": {},
   "outputs": [
    {
     "data": {
      "text/plain": [
       "21.945893706435637"
      ]
     },
     "execution_count": 12,
     "metadata": {},
     "output_type": "execute_result"
    }
   ],
   "source": [
    "rms=np.sqrt(np.mean(np.power((valid-closing_price),2)))\n",
    "rms"
   ]
  },
  {
   "cell_type": "code",
   "execution_count": 13,
   "id": "ddde2003",
   "metadata": {},
   "outputs": [
    {
     "name": "stderr",
     "output_type": "stream",
     "text": [
      "<ipython-input-13-f5cac910112e>:3: SettingWithCopyWarning: \n",
      "A value is trying to be set on a copy of a slice from a DataFrame.\n",
      "Try using .loc[row_indexer,col_indexer] = value instead\n",
      "\n",
      "See the caveats in the documentation: https://pandas.pydata.org/pandas-docs/stable/user_guide/indexing.html#returning-a-view-versus-a-copy\n",
      "  valid['Predictions'] = closing_price\n"
     ]
    },
    {
     "data": {
      "text/plain": [
       "[<matplotlib.lines.Line2D at 0x2aa15bc1ac0>,\n",
       " <matplotlib.lines.Line2D at 0x2aa15bc1b80>]"
      ]
     },
     "execution_count": 13,
     "metadata": {},
     "output_type": "execute_result"
    },
    {
     "data": {
      "image/png": "[encoded data removed]",
      "text/plain": [
       "<Figure size 432x288 with 1 Axes>"
      ]
     },
     "metadata": {
      "needs_background": "light"
     },
     "output_type": "display_data"
    }
   ],
   "source": [
    "train = new_data[:987]\n",
    "valid = new_data[987:]\n",
    "valid['Predictions'] = closing_price\n",
    "plt.plot(train['Close'])\n",
    "plt.plot(valid[['Close','Predictions']])"
   ]
  },
  {
   "cell_type": "code",
   "execution_count": null,
   "id": "977c4114",
   "metadata": {},
   "outputs": [],
   "source": []
  },
  {
   "cell_type": "code",
   "execution_count": null,
   "id": "1f3f65da",
   "metadata": {},
   "outputs": [],
   "source": []
  }
 ],
 "metadata": {
  "kernelspec": {
   "display_name": "Python 3",
   "language": "python",
   "name": "python3"
  },
  "language_info": {
   "codemirror_mode": {
    "name": "ipython",
    "version": 3
   },
   "file_extension": ".py",
   "mimetype": "text/x-python",
   "name": "python",
   "nbconvert_exporter": "python",
   "pygments_lexer": "ipython3",
   "version": "3.8.8"
  }
 },
 "nbformat": 4,
 "nbformat_minor": 5
}
